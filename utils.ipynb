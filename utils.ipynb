{
  "nbformat": 4,
  "nbformat_minor": 0,
  "metadata": {
    "colab": {
      "provenance": [],
      "authorship_tag": "ABX9TyNQzrrucBYhLguZBtEdOxrM",
      "include_colab_link": true
    },
    "kernelspec": {
      "name": "python3",
      "display_name": "Python 3"
    },
    "language_info": {
      "name": "python"
    }
  },
  "cells": [
    {
      "cell_type": "markdown",
      "metadata": {
        "id": "view-in-github",
        "colab_type": "text"
      },
      "source": [
        "<a href=\"https://colab.research.google.com/github/debvieira/debvieira/blob/main/utils.ipynb\" target=\"_parent\"><img src=\"https://colab.research.google.com/assets/colab-badge.svg\" alt=\"Open In Colab\"/></a>"
      ]
    },
    {
      "cell_type": "code",
      "execution_count": null,
      "metadata": {
        "id": "fGY5RpPd9c05"
      },
      "outputs": [],
      "source": [
        "import torch\n",
        "from transformers import AutoTokenizer\n",
        "from transformers import AutoModelForSequenceClassification\n",
        "from scipy.special import softmax\n",
        "from transformers import pipeline\n",
        "\n",
        "def polarity_scores_roberta(example):\n",
        "    \"\"\"\n",
        "    Computes the polarity scores for a given text using a RoBERTa model.\n",
        "\n",
        "    Parameters:\n",
        "    example (str): The input text for analysis.\n",
        "\n",
        "    Returns:\n",
        "    dict: A dictionary with keys 'roberta_neg', 'roberta_neu', and 'roberta_pos'\n",
        "          representing the negative, neutral, and positive sentiment scores.\n",
        "    \"\"\"\n",
        "    encoded_text = tokenizer(example, return_tensors='pt')\n",
        "    output = model(**encoded_text)\n",
        "    scores = output[0][0].detach().numpy()\n",
        "    scores = softmax(scores)\n",
        "    scores_dict = {\n",
        "        'roberta_neg': scores[0],\n",
        "        'roberta_neu': scores[1],\n",
        "        'roberta_pos': scores[2]\n",
        "    }\n",
        "    return scores_dict"
      ]
    }
  ]
}